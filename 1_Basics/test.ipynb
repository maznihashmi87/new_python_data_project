{
 "cells": [
  {
   "cell_type": "code",
   "execution_count": 4,
   "metadata": {},
   "outputs": [
    {
     "name": "stdout",
     "output_type": "stream",
     "text": [
      "Module(\n",
      "          body=[\n",
      "                    Assign(\n",
      "                              targets=[\n",
      "                                        Name(id='x', ctx=Store())],\n",
      "                              value=BinOp(\n",
      "                                        left=Constant(value=1),\n",
      "                                        op=Add(),\n",
      "                                        right=Constant(value=2)))],\n",
      "          type_ignores=[])\n"
     ]
    }
   ],
   "source": [
    "import ast\n",
    "\n",
    "code = \"x = 1 + 2\"\n",
    "tree = ast.parse(code)\n",
    "print(ast.dump(tree, indent=10))\n"
   ]
  },
  {
   "cell_type": "code",
   "execution_count": null,
   "metadata": {},
   "outputs": [],
   "source": []
  }
 ],
 "metadata": {
  "kernelspec": {
   "display_name": "python_course_new",
   "language": "python",
   "name": "python3"
  },
  "language_info": {
   "codemirror_mode": {
    "name": "ipython",
    "version": 3
   },
   "file_extension": ".py",
   "mimetype": "text/x-python",
   "name": "python",
   "nbconvert_exporter": "python",
   "pygments_lexer": "ipython3",
   "version": "3.11.11"
  }
 },
 "nbformat": 4,
 "nbformat_minor": 2
}
